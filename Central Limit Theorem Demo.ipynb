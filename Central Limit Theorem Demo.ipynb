{
 "cells": [
  {
   "cell_type": "markdown",
   "metadata": {},
   "source": [
    "# CentralLimitTheorem Python Demo\n",
    "> Welcome to central limit theorem python demo\n",
    "\n",
    "This little demo was created during HYU CSE Probability and Statistics lecture. People are welcome to use this code or contribute in any ways in an educational manner."
   ]
  },
  {
   "cell_type": "code",
   "execution_count": null,
   "metadata": {},
   "outputs": [],
   "source": [
    "import ipywidgets as widgets\n",
    "from ipywidgets import *\n",
    "from matplotlib import pyplot as plt\n",
    "\n",
    "import numpy as np\n",
    "\n",
    "def compute_musigma(sampled):\n",
    "    n = len(sampled)\n",
    "    sum = 0\n",
    "    for val in sampled:\n",
    "        sum += val\n",
    "    mu = sum / n\n",
    "    sum = 0\n",
    "    for val in sampled:\n",
    "        sum += np.power(val-mu, 2)\n",
    "    sigma = np.sqrt(sum / n)\n",
    "    return mu, sigma\n",
    "\n",
    "def demo(sample, n_obs):\n",
    "    \"\"\"\n",
    "    :params:\n",
    "        sample : sampling function\n",
    "        n_obs : number of observations\n",
    "    \"\"\"\n",
    "    \n",
    "    def plot(n_samples):\n",
    "        sampled, mu, sigma = sample(n_obs, n_samples)\n",
    "        count, bins, ignored = plt.hist(sampled, 10, density=True)\n",
    "        \n",
    "        ex_mu = n_samples * mu\n",
    "        ex_sigma = sigma * np.sqrt(n_samples)\n",
    "        \n",
    "        real_mu, real_sigma = compute_musigma(sampled)\n",
    "        print(\"expected mu: {ex_mu}\\nexpected sigma: {ex_sigma}\".format(ex_mu=ex_mu, ex_sigma=ex_sigma))\n",
    "        print(\"real mu: {real_mu}\\nreal sigma: {real_sigma}\".format(real_mu=real_mu, real_sigma=real_sigma))\n",
    "        \n",
    "    \n",
    "    interact(plot, n_samples=widgets.IntSlider(value=1, min=1, max=10, step=1, layout=Layout(width='50%', height='80px')))"
   ]
  },
  {
   "cell_type": "code",
   "execution_count": null,
   "metadata": {},
   "outputs": [],
   "source": [
    "# Define PDF (Probability Density Function) and Sampling Function\n",
    "\n",
    "def sample(n_obs, n_samples):\n",
    "    # assume a binomial distribution\n",
    "    N = 10\n",
    "    P = 0.3\n",
    "    result = [np.sum(np.random.binomial(N, P, n_samples)) for _ in range(n_obs)]\n",
    "    return result, N*P, N*P*(1-P)"
   ]
  },
  {
   "cell_type": "code",
   "execution_count": null,
   "metadata": {},
   "outputs": [],
   "source": [
    "demo(sample, n_obs=100)"
   ]
  },
  {
   "cell_type": "code",
   "execution_count": null,
   "metadata": {},
   "outputs": [],
   "source": []
  }
 ],
 "metadata": {
  "kernelspec": {
   "display_name": "Python 3",
   "language": "python",
   "name": "python3"
  },
  "language_info": {
   "codemirror_mode": {
    "name": "ipython",
    "version": 3
   },
   "file_extension": ".py",
   "mimetype": "text/x-python",
   "name": "python",
   "nbconvert_exporter": "python",
   "pygments_lexer": "ipython3",
   "version": "3.7.3"
  }
 },
 "nbformat": 4,
 "nbformat_minor": 2
}
